{
 "cells": [
  {
   "cell_type": "code",
   "execution_count": null,
   "id": "99843687",
   "metadata": {},
   "outputs": [],
   "source": [
    "import cv2\n",
    "import numpy as np\n",
    "\n",
    "# load the image\n",
    "img = cv2.imread('E:/problems/occlusion1_sol_rec.png')\n",
    "\n",
    "# convert the image to grayscale\n",
    "gray = cv2.cvtColor(img, cv2.COLOR_BGR2GRAY)\n",
    "\n",
    "# Apply Horizontal flipping\n",
    "flip_horizontal = cv2.flip(gray, 1)\n",
    "\n",
    "# Apply Vertical flipping\n",
    "flip_vertical = cv2.flip(gray, 0)\n",
    "\n",
    "# Visualizing the results\n",
    "cv2.imshow(\"Original\", img)\n",
    "cv2.imshow('Horizontal flip', flip_horizontal)\n",
    "cv2.imshow('vertical flip', flip_vertical)\n",
    "cv2.waitKey(0)\n",
    "cv2.destroyAllWindows()"
   ]
  },
  {
   "cell_type": "code",
   "execution_count": null,
   "id": "98737069",
   "metadata": {},
   "outputs": [],
   "source": [
    "# Vertical Symmetry\n",
    "import cv2\n",
    "import numpy as np\n",
    "# load the image\n",
    "img_path = 'E:/img1.jpg'\n",
    "img = cv2.imread(img_path)\n",
    "\n",
    "#check if the image is loaded correctly\n",
    "if img is None:\n",
    "    print(f\"Error: Unable to read the image file {img_path}\")\n",
    "else:\n",
    "    # Convert the image to grayScale\n",
    "    gray = cv2.cvtColor(img, cv2.COLOR_BGR2GRAY)\n",
    "    # Flip the image vertically\n",
    "    flip_vertical = cv2.flip(gray,1)\n",
    "    # Draw a vertical line to visualize symmetry\n",
    "    img_symmetry = img.copy()\n",
    "    cv2.line(img_symmetry,(gray.shape[1] // 2, 0), (gray.shape[1] // 2, gray.shape[0]), (0, 0, 255))\n",
    "    \n",
    "    # Display the original image and the symmetry visualization\n",
    "    cv2.imshow('Original', img)\n",
    "    cv2.imshow('Vertical Symmetry', img_symmetry)\n",
    "    cv2.waitKey(0)\n",
    "    cv2.destroyAllWindows()"
   ]
  },
  {
   "cell_type": "code",
   "execution_count": 2,
   "id": "50341ae2",
   "metadata": {},
   "outputs": [],
   "source": [
    "# Horizontal Symmetry\n",
    "import cv2\n",
    "import numpy as np\n",
    "\n",
    "# load the image\n",
    "img_path = 'E:/img1.jpg'\n",
    "img = cv2.imread(img_path)\n",
    "\n",
    "#check if the image is loaded correctly\n",
    "if img is None:\n",
    "    print(f\"Error: Unable to read the image file {img_path}\")\n",
    "else:\n",
    "    # Convert the image to grayScale\n",
    "    gray = cv2.cvtColor(img, cv2.COLOR_BGR2GRAY)\n",
    "    \n",
    "    # Draw a horizontal line to visualize symmetry\n",
    "    img_symmetry = img.copy()\n",
    "    \n",
    "    # Horizontal symmetry line\n",
    "    cv2.line(img_symmetry, (0, gray.shape[0] // 2), (gray.shape[1], gray.shape[0] // 2), (255,0,255))\n",
    "    \n",
    "    # Display the original image and the symmetry visualization\n",
    "    cv2.imshow('Original', img)\n",
    "    cv2.imshow('Horizontal Symmetry', img_symmetry)\n",
    "    cv2.waitKey(0)\n",
    "    cv2.destroyAllWindows()"
   ]
  },
  {
   "cell_type": "code",
   "execution_count": 4,
   "id": "46c107f4",
   "metadata": {},
   "outputs": [
    {
     "name": "stdout",
     "output_type": "stream",
     "text": [
      "Operation completed successfully\n"
     ]
    }
   ],
   "source": [
    "import cv2\n",
    "import numpy as np\n",
    "\n",
    "# Load the image\n",
    "img_path = 'E:/img1.jpg'\n",
    "img = cv2.imread(img_path)\n",
    "\n",
    "# Check if the image is loaded correctly\n",
    "if img is None:\n",
    "    print(f\"Error: Unable to read the image file {img_path}\")\n",
    "else:\n",
    "    # Convert the image to grayScale\n",
    "    gray = cv2.cvtColor(img, cv2.COLOR_BGR2GRAY)\n",
    "\n",
    "    # Draw symmetry lines\n",
    "    img_symmetry = img.copy()\n",
    "\n",
    "    # Diagonal symmetry lines\n",
    "    height, width = gray.shape\n",
    "    cv2.line(img_symmetry, (0, 0), (width, height), (0, 255, 0), 2)  # Top-left to bottom-right\n",
    "    cv2.line(img_symmetry, (0, height), (width, 0), (0, 255, 0), 2)  # Bottom-left to top-right\n",
    "\n",
    "    # Display the original image and the symmetry visualization\n",
    "    cv2.imshow('Original', img)\n",
    "    cv2.imshow('Symmetry Visualization', img_symmetry)\n",
    "\n",
    "    # Wait for a key press indefinitely or for a specified amount of time in milliseconds\n",
    "    key = cv2.waitKey(0)\n",
    "    if key == 27:  # If the 'Esc' key is pressed, close all windows\n",
    "        cv2.destroyAllWindows()\n",
    "    elif key == ord('s'):  # If the 's' key is pressed, save the image and close all windows\n",
    "        cv2.imwrite('E:/img1_symmetry.jpg', img_symmetry)\n",
    "        cv2.destroyAllWindows()\n",
    "\n",
    "    print('Operation completed successfully')\n"
   ]
  },
  {
   "cell_type": "code",
   "execution_count": null,
   "id": "06902965",
   "metadata": {},
   "outputs": [],
   "source": []
  }
 ],
 "metadata": {
  "kernelspec": {
   "display_name": "Python 3 (ipykernel)",
   "language": "python",
   "name": "python3"
  },
  "language_info": {
   "codemirror_mode": {
    "name": "ipython",
    "version": 3
   },
   "file_extension": ".py",
   "mimetype": "text/x-python",
   "name": "python",
   "nbconvert_exporter": "python",
   "pygments_lexer": "ipython3",
   "version": "3.11.4"
  }
 },
 "nbformat": 4,
 "nbformat_minor": 5
}
